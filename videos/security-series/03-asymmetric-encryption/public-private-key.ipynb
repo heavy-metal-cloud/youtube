{
 "metadata": {
  "kernelspec": {
   "name": "python3",
   "display_name": "Python 3 (ipykernel)",
   "language": "python"
  },
  "language_info": {
   "codemirror_mode": {
    "name": "python",
    "version": 3
   },
   "file_extension": ".py",
   "mimetype": "text/x-python",
   "name": "python",
   "nbconvert_exporter": "python",
   "pygments_lexer": "ipython3",
   "version": "3.8"
  }
 },
 "nbformat_minor": 5,
 "nbformat": 4,
 "cells": [
  {
   "metadata": {},
   "cell_type": "markdown",
   "source": "### Initial Set up",
   "id": "f5b66a902ffaa392"
  },
  {
   "id": "e020b2c0-703a-489e-b97c-cfa75c99a4cb",
   "cell_type": "code",
   "source": [
    "## Exponents\n",
    "p = 5\n",
    "q = 11"
   ],
   "metadata": {
    "trusted": true,
    "ExecuteTime": {
     "end_time": "2025-10-19T15:31:30.971064Z",
     "start_time": "2025-10-19T15:31:30.960495Z"
    }
   },
   "outputs": [],
   "execution_count": 24
  },
  {
   "id": "dc529ba9-93da-481c-99f1-4daa68128414",
   "cell_type": "code",
   "source": [
    "## Modulus\n",
    "modulus = p * q"
   ],
   "metadata": {
    "trusted": true,
    "ExecuteTime": {
     "end_time": "2025-10-19T15:31:31.002853Z",
     "start_time": "2025-10-19T15:31:30.988766Z"
    }
   },
   "outputs": [],
   "execution_count": 25
  },
  {
   "id": "20f51445-ae3f-430b-af06-9069c488f60b",
   "cell_type": "code",
   "source": "print(modulus)",
   "metadata": {
    "trusted": true,
    "ExecuteTime": {
     "end_time": "2025-10-19T15:31:31.033570Z",
     "start_time": "2025-10-19T15:31:31.020986Z"
    }
   },
   "outputs": [
    {
     "name": "stdout",
     "output_type": "stream",
     "text": [
      "55\n"
     ]
    }
   ],
   "execution_count": 26
  },
  {
   "metadata": {},
   "cell_type": "markdown",
   "source": "### Public Key",
   "id": "41787ac0509a4be7"
  },
  {
   "id": "06b915d8-01b9-4c1c-b475-649a0dd98835",
   "cell_type": "code",
   "source": [
    "## Totient\n",
    "totient = (p-1) * (q-1)"
   ],
   "metadata": {
    "trusted": true,
    "ExecuteTime": {
     "end_time": "2025-10-19T15:31:31.065159Z",
     "start_time": "2025-10-19T15:31:31.052723Z"
    }
   },
   "outputs": [],
   "execution_count": 27
  },
  {
   "id": "b984393c-7cdb-4700-891c-04fef182d6b3",
   "cell_type": "code",
   "source": "print(totient)",
   "metadata": {
    "trusted": true,
    "ExecuteTime": {
     "end_time": "2025-10-19T15:31:31.096644Z",
     "start_time": "2025-10-19T15:31:31.083574Z"
    }
   },
   "outputs": [
    {
     "name": "stdout",
     "output_type": "stream",
     "text": [
      "40\n"
     ]
    }
   ],
   "execution_count": 28
  },
  {
   "id": "3cb5a863-71e1-49b3-ba0e-7819945bae91",
   "cell_type": "code",
   "source": "e = 7",
   "metadata": {
    "trusted": true,
    "ExecuteTime": {
     "end_time": "2025-10-19T15:31:31.128014Z",
     "start_time": "2025-10-19T15:31:31.120462Z"
    }
   },
   "outputs": [],
   "execution_count": 29
  },
  {
   "metadata": {},
   "cell_type": "markdown",
   "source": "### Private Key",
   "id": "7680dcc384895b02"
  },
  {
   "id": "091886a1-d4d9-42e9-93be-86a6ed435cb6",
   "cell_type": "code",
   "source": [
    "## Extended Euclidean Algorithm\n",
    "d = pow(e, -1, totient)\n",
    "print(d)"
   ],
   "metadata": {
    "trusted": true,
    "ExecuteTime": {
     "end_time": "2025-10-19T15:31:31.191811Z",
     "start_time": "2025-10-19T15:31:31.176489Z"
    }
   },
   "outputs": [
    {
     "name": "stdout",
     "output_type": "stream",
     "text": [
      "23\n"
     ]
    }
   ],
   "execution_count": 30
  },
  {
   "id": "f662ed5d-cddf-4eda-bca3-784d4d98a1c9",
   "cell_type": "markdown",
   "source": "# Encryption",
   "metadata": {}
  },
  {
   "id": "e777ea99-dc95-438d-9d68-ad941a56aad8",
   "cell_type": "code",
   "source": [
    "### Let's encrypt the number 3!\n",
    "x = 3"
   ],
   "metadata": {
    "trusted": true,
    "ExecuteTime": {
     "end_time": "2025-10-19T15:31:31.270431Z",
     "start_time": "2025-10-19T15:31:31.255290Z"
    }
   },
   "outputs": [],
   "execution_count": 31
  },
  {
   "id": "59c7805a-02db-4c7e-9d73-75b135d995c3",
   "cell_type": "code",
   "source": "encrypted_value =x**e % modulus",
   "metadata": {
    "trusted": true,
    "ExecuteTime": {
     "end_time": "2025-10-19T15:31:31.286286Z",
     "start_time": "2025-10-19T15:31:31.273013Z"
    }
   },
   "outputs": [],
   "execution_count": 32
  },
  {
   "id": "92fddd49-ab0f-4de0-a614-41a9caad985e",
   "cell_type": "code",
   "source": "print(encrypted_value)",
   "metadata": {
    "trusted": true,
    "ExecuteTime": {
     "end_time": "2025-10-19T15:31:31.317606Z",
     "start_time": "2025-10-19T15:31:31.304465Z"
    }
   },
   "outputs": [
    {
     "name": "stdout",
     "output_type": "stream",
     "text": [
      "42\n"
     ]
    }
   ],
   "execution_count": 33
  },
  {
   "id": "ac66e756-a0cf-417c-b32e-a3a8cd4315e8",
   "cell_type": "markdown",
   "source": "# Decryption",
   "metadata": {}
  },
  {
   "id": "d74b2720-2e54-4f97-a6dd-b8be9a5f8b48",
   "cell_type": "code",
   "source": "decrypted_value = encrypted_value**d % modulus",
   "metadata": {
    "trusted": true,
    "ExecuteTime": {
     "end_time": "2025-10-19T15:31:31.429546Z",
     "start_time": "2025-10-19T15:31:31.420964Z"
    }
   },
   "outputs": [],
   "execution_count": 34
  },
  {
   "id": "bbeac5ac-896e-486f-9370-6e7ad71b75de",
   "cell_type": "code",
   "source": "print(decrypted_value)",
   "metadata": {
    "trusted": true,
    "ExecuteTime": {
     "end_time": "2025-10-19T15:31:31.475708Z",
     "start_time": "2025-10-19T15:31:31.463619Z"
    }
   },
   "outputs": [
    {
     "name": "stdout",
     "output_type": "stream",
     "text": [
      "3\n"
     ]
    }
   ],
   "execution_count": 35
  },
  {
   "id": "fac907cb-cf10-4165-b61b-1a2986fe1145",
   "cell_type": "code",
   "source": "",
   "metadata": {
    "trusted": true,
    "ExecuteTime": {
     "end_time": "2025-10-19T15:31:31.569198Z",
     "start_time": "2025-10-19T15:31:31.560124Z"
    }
   },
   "outputs": [],
   "execution_count": null
  }
 ]
}
